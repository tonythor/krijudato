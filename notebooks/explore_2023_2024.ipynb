{
 "cells": [
  {
   "cell_type": "code",
   "execution_count": 1,
   "id": "76870466-bb61-41dc-904e-4c121184adfd",
   "metadata": {},
   "outputs": [],
   "source": [
    "from lussi.fun import * \n"
   ]
  },
  {
   "cell_type": "code",
   "execution_count": 1,
   "id": "d571c713-3053-47a1-b975-8cca7be51d07",
   "metadata": {},
   "outputs": [],
   "source": [
    "## Check new columns for new years.\n",
    "\n",
    "# url_2023 = \"https://tonyfraser-data.s3.amazonaws.com/stack/y=2023/survey_results_public.csv\"\n",
    "# url_2024 = \"https://tonyfraser-data.s3.amazonaws.com/stack/y=2024/survey_results_public.csv\"\n",
    "# print(url_2023)\n",
    "# df_2023 = pd.read_csv(url_2023, nrows=1000)\n",
    "# print(\"Columns in 2023 data:\", df_2023.columns.tolist())\n",
    "# print(f\"'YearsCodePro' in 2023 columns: {'YearsCodePro' in df_2023.columns}\")\n",
    "# df_2024 = pd.read_csv(url_2024, nrows=1000)\n",
    "# print(\"Columns in 2024 data:\", df_2024.columns.tolist())\n",
    "# print(f\"'YearsCodePro' in 2024 columns: {'YearsCodePro' in df_2024.columns}\")\n",
    "# https://tonyfraser-data.s3.amazonaws.com/stack/y=2023/survey_results_public.csv "
   ]
  },
  {
   "cell_type": "code",
   "execution_count": null,
   "id": "32d8e249-1f51-4b85-aa50-6523d631a3d5",
   "metadata": {},
   "outputs": [],
   "source": []
  },
  {
   "cell_type": "code",
   "execution_count": null,
   "id": "64db3e18-926a-4c92-9abb-ca71c3d1edd6",
   "metadata": {},
   "outputs": [],
   "source": []
  }
 ],
 "metadata": {
  "kernelspec": {
   "display_name": "Python 3 (ipykernel)",
   "language": "python",
   "name": "python3"
  },
  "language_info": {
   "codemirror_mode": {
    "name": "ipython",
    "version": 3
   },
   "file_extension": ".py",
   "mimetype": "text/x-python",
   "name": "python",
   "nbconvert_exporter": "python",
   "pygments_lexer": "ipython3",
   "version": "3.10.14"
  }
 },
 "nbformat": 4,
 "nbformat_minor": 5
}
